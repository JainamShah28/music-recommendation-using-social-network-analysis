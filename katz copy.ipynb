{
 "cells": [
  {
   "cell_type": "code",
   "execution_count": 99,
   "metadata": {},
   "outputs": [
    {
     "data": {
      "text/plain": [
       "True"
      ]
     },
     "execution_count": 99,
     "metadata": {},
     "output_type": "execute_result"
    }
   ],
   "source": [
    "import numpy as np\n",
    "import torch\n",
    "import networkx as nx\n",
    "import torch_geometric\n",
    "from networkx.algorithms import bipartite\n",
    "\n",
    "data = torch.load(\"data_object.pt\")\n",
    "\n",
    "\n",
    "G = torch_geometric.utils.to_networkx(data)\n",
    "G = nx.to_undirected(G)\n",
    "bipartite.is_bipartite(G)"
   ]
  },
  {
   "cell_type": "code",
   "execution_count": 278,
   "metadata": {},
   "outputs": [],
   "source": [
    "\n",
    "nx.write_gexf(G, \"SNA10K.gexf\")"
   ]
  },
  {
   "cell_type": "code",
   "execution_count": 95,
   "metadata": {},
   "outputs": [
    {
     "data": {
      "image/png": "[encoded data removed]",
      "text/plain": [
       "<Figure size 432x288 with 1 Axes>"
      ]
     },
     "metadata": {},
     "output_type": "display_data"
    }
   ],
   "source": [
    "import matplotlib.pyplot as plt\n",
    "edges = G.edges()"
   ]
  },
  {
   "cell_type": "code",
   "execution_count": 193,
   "metadata": {},
   "outputs": [],
   "source": [
    "# split dataset\n",
    "import random\n",
    "random.seed(42)\n",
    "edgelist = list(G.edges())\n",
    "test_size = len(edgelist) // 10 # 20% of the dataset as val\n",
    "max_non_edges = test_size # no. of non-edges in test split\n",
    "test_edgelist = random.sample(edgelist, test_size) \n",
    "test_edgelist = [list(e) + [1] for e in test_edgelist]\n",
    "\n",
    "train_G = G.copy()\n",
    "\n",
    "# add non-edges to test set\n",
    "X, Y = bipartite.sets(train_G)\n",
    "X = list(X)\n",
    "random.shuffle(X)\n",
    "Y = list(Y)\n",
    "random.shuffle(Y)\n",
    "count = 0\n",
    "\n",
    "\n",
    "for x in X:\n",
    "    for y in Y:\n",
    "        if not train_G.has_edge(x,y):\n",
    "            test_edgelist.append([x,y,0])\n",
    "            count += 1\n",
    "        if count >= max_non_edges:\n",
    "            break\n",
    "    if count >= max_non_edges:\n",
    "        break\n",
    "\n",
    "\n",
    "\n",
    "# remove from original graph\n",
    "train_G.remove_edges_from(test_edgelist)"
   ]
  },
  {
   "cell_type": "code",
   "execution_count": 167,
   "metadata": {},
   "outputs": [
    {
     "name": "stdout",
     "output_type": "stream",
     "text": [
      "23577\n"
     ]
    },
    {
     "data": {
      "text/plain": [
       "212202"
      ]
     },
     "execution_count": 167,
     "metadata": {},
     "output_type": "execute_result"
    }
   ],
   "source": [
    "print(len(test_edgelist))\n",
    "train_G.number_of_edges()"
   ]
  },
  {
   "cell_type": "code",
   "execution_count": 168,
   "metadata": {},
   "outputs": [
    {
     "name": "stdout",
     "output_type": "stream",
     "text": [
      "computed normalised_laplacian\n"
     ]
    },
    {
     "name": "stderr",
     "output_type": "stream",
     "text": [
      "C:\\Users\\sidda\\AppData\\Roaming\\Python\\Python39\\site-packages\\scipy\\sparse\\_base.py:752: VisibleDeprecationWarning: Please use `.todense()` instead\n",
      "  warn(np.VisibleDeprecationWarning(\n"
     ]
    },
    {
     "name": "stdout",
     "output_type": "stream",
     "text": [
      "Largest eigenvalue: (2.000000000000028+0j)\n"
     ]
    },
    {
     "data": {
      "text/plain": [
       "array([[-0.71926009,  0.07347841,  0.16549998, ..., -0.14629738,\n",
       "        -0.08521013,  0.03303376],\n",
       "       [ 0.07347841, -0.85162493,  0.234125  , ..., -0.14824079,\n",
       "         0.27850034, -0.01615939],\n",
       "       [ 0.16549998,  0.234125  , -0.62690749, ..., -0.0529516 ,\n",
       "        -0.07961314, -0.06396189],\n",
       "       ...,\n",
       "       [-0.14629738, -0.14824079, -0.0529516 , ..., -0.85700825,\n",
       "        -0.07307708, -0.03450547],\n",
       "       [-0.08521013,  0.27850034, -0.07961314, ..., -0.07307708,\n",
       "         0.05955978,  0.10808677],\n",
       "       [ 0.03303376, -0.01615939, -0.06396189, ..., -0.03450547,\n",
       "         0.10808677, -1.32885464]])"
      ]
     },
     "execution_count": 168,
     "metadata": {},
     "output_type": "execute_result"
    }
   ],
   "source": [
    "import numpy as np\n",
    "from numpy.linalg import inv\n",
    "\n",
    "#Calculate highest eigenvector\n",
    "L = nx.normalized_laplacian_matrix(G)\n",
    "print(\"computed normalised_laplacian\")\n",
    "e = np.linalg.eigvals(L.A)\n",
    "print(\"Largest eigenvalue:\", max(e))\n",
    "beta = np.real(1/max(e))\n",
    "I = np.identity(len(G.nodes)) #create identity matrix\n",
    "\n",
    "#Katz score\n",
    "katz = inv(I - nx.to_numpy_array(G)*beta) - I\n",
    "katz = np.real(katz)\n",
    "katz\n"
   ]
  },
  {
   "cell_type": "code",
   "execution_count": null,
   "metadata": {},
   "outputs": [],
   "source": [
    "adamic =  list(nx.link_prediction.adamic_adar_index(G))\n",
    "\n"
   ]
  },
  {
   "cell_type": "code",
   "execution_count": null,
   "metadata": {},
   "outputs": [],
   "source": [
    "retrunProbs = []\n",
    "\n",
    "for edge in test_edgelist:\n",
    "    retrunProbs.append(katz[edge[0]][edge[1]])\n",
    "\n",
    "\n",
    "from sklearn.preprocessing import MinMaxScaler\n",
    "minmaxScaler = MinMaxScaler()\n",
    "\n",
    "retrunProbs = minmaxScaler.fit_transform(np.array(retrunProbs).reshape(-1,1))\n",
    "retrunProbs\n",
    "    "
   ]
  },
  {
   "cell_type": "code",
   "execution_count": 213,
   "metadata": {},
   "outputs": [
    {
     "data": {
      "text/plain": [
       "array([[0.50175178],\n",
       "       [0.46523181],\n",
       "       [0.57529079],\n",
       "       ...,\n",
       "       [0.49280208],\n",
       "       [0.55335609],\n",
       "       [0.45491844]])"
      ]
     },
     "execution_count": 213,
     "metadata": {},
     "output_type": "execute_result"
    }
   ],
   "source": [
    "retrunProbs = []\n",
    "\n",
    "for edge in test_edgelist:\n",
    "    retrunProbs.append(katz[edge[0]][edge[1]])\n",
    "\n",
    "\n",
    "from sklearn.preprocessing import MinMaxScaler\n",
    "minmaxScaler = MinMaxScaler()\n",
    "\n",
    "retrunProbs = minmaxScaler.fit_transform(np.array(retrunProbs).reshape(-1,1))\n",
    "retrunProbs\n",
    "    "
   ]
  },
  {
   "cell_type": "code",
   "execution_count": 216,
   "metadata": {},
   "outputs": [],
   "source": [
    "\n",
    "y_test = np.array(test_edgelist)[:, 2]"
   ]
  },
  {
   "cell_type": "code",
   "execution_count": 219,
   "metadata": {},
   "outputs": [
    {
     "data": {
      "text/plain": [
       "(47154, 1)"
      ]
     },
     "execution_count": 219,
     "metadata": {},
     "output_type": "execute_result"
    }
   ],
   "source": [
    "retrunProbs.shape"
   ]
  },
  {
   "cell_type": "code",
   "execution_count": 277,
   "metadata": {},
   "outputs": [
    {
     "data": {
      "text/plain": [
       "<matplotlib.legend.Legend at 0x1c9e88dc9d0>"
      ]
     },
     "execution_count": 277,
     "metadata": {},
     "output_type": "execute_result"
    },
    {
     "data": {
      "image/png": "[encoded data removed]",
      "text/plain": [
       "<Figure size 432x288 with 1 Axes>"
      ]
     },
     "metadata": {
      "needs_background": "light"
     },
     "output_type": "display_data"
    }
   ],
   "source": [
    "from sklearn.metrics import precision_score\n",
    "from sklearn.metrics import recall_score\n",
    "from sklearn.metrics import f1_score\n",
    "recall = []\n",
    "prec = []\n",
    "f1 = []\n",
    "for thresh in np.arange(0.01, 1.0, 0.01):\n",
    "    f1.append(f1_score(y_test, retrunProbs > thresh))\n",
    "    recall.append(recall_score(y_test, retrunProbs > thresh))\n",
    "    prec.append(precision_score(y_test, retrunProbs > thresh))\n",
    "\n",
    "plt.plot(np.arange(0.01, 1.0, 0.01), f1, label=\"F1-Score\")\n",
    "plt.plot(np.arange(0.01, 1.0, 0.01), recall, label=\"Recall\")\n",
    "plt.plot(np.arange(0.01, 1.0, 0.01), prec, label=\"Precision\")\n",
    "plt.xlabel(\"Threshold\")\n",
    "plt.legend(loc=\"upper left\")"
   ]
  },
  {
   "cell_type": "code",
   "execution_count": 263,
   "metadata": {},
   "outputs": [
    {
     "data": {
      "text/plain": [
       "<sklearn.metrics._plot.precision_recall_curve.PrecisionRecallDisplay at 0x1c927a5a1c0>"
      ]
     },
     "execution_count": 263,
     "metadata": {},
     "output_type": "execute_result"
    },
    {
     "data": {
      "image/png": "[encoded data removed]",
      "text/plain": [
       "<Figure size 432x288 with 1 Axes>"
      ]
     },
     "metadata": {
      "needs_background": "light"
     },
     "output_type": "display_data"
    }
   ],
   "source": [
    "from sklearn.metrics import (precision_recall_curve,\n",
    "                              PrecisionRecallDisplay)\n",
    "precision, recall, _ = precision_recall_curve(y_test, retrunProbs)\n",
    "PrecisionRecallDisplay(precision=precision, recall=recall).plot()"
   ]
  },
  {
   "cell_type": "code",
   "execution_count": 273,
   "metadata": {},
   "outputs": [
    {
     "name": "stdout",
     "output_type": "stream",
     "text": [
      "26\n"
     ]
    }
   ],
   "source": [
    "print(f1.index(max(f1)))"
   ]
  },
  {
   "cell_type": "code",
   "execution_count": 276,
   "metadata": {},
   "outputs": [
    {
     "data": {
      "text/plain": [
       "<sklearn.metrics._plot.confusion_matrix.ConfusionMatrixDisplay at 0x1c9a6364790>"
      ]
     },
     "execution_count": 276,
     "metadata": {},
     "output_type": "execute_result"
    },
    {
     "data": {
      "image/png": "[encoded data removed]",
      "text/plain": [
       "<Figure size 432x288 with 2 Axes>"
      ]
     },
     "metadata": {
      "needs_background": "light"
     },
     "output_type": "display_data"
    }
   ],
   "source": [
    "from sklearn.metrics import confusion_matrix, ConfusionMatrixDisplay\n",
    "cm = confusion_matrix(y_test, retrunProbs > 0.4)\n",
    "ConfusionMatrixDisplay(confusion_matrix=cm).plot()"
   ]
  }
 ],
 "metadata": {
  "kernelspec": {
   "display_name": "Python 3",
   "language": "python",
   "name": "python3"
  },
  "language_info": {
   "codemirror_mode": {
    "name": "ipython",
    "version": 3
   },
   "file_extension": ".py",
   "mimetype": "text/x-python",
   "name": "python",
   "nbconvert_exporter": "python",
   "pygments_lexer": "ipython3",
   "version": "3.9.5"
  },
  "orig_nbformat": 4,
  "vscode": {
   "interpreter": {
    "hash": "11938c6bc6919ae2720b4d5011047913343b08a43b18698fd82dedb0d4417594"
   }
  }
 },
 "nbformat": 4,
 "nbformat_minor": 2
}
