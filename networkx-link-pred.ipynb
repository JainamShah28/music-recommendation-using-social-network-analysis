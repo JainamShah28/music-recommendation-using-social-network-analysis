{
 "cells": [
  {
   "cell_type": "code",
   "execution_count": 6,
   "metadata": {},
   "outputs": [],
   "source": [
    "from networkx.algorithms import bipartite\n",
    "import networkx as nx\n",
    "\n",
    "with open(\"data/user_artists.dat\", \"r\") as f:\n",
    "    lines = f.read().split(\"\\n\")\n",
    "lines = [e.replace(\",\", \"\") for e in lines]\n",
    "\n",
    "G = bipartite.parse_edgelist(lines, nodetype=int, data=((\"weight\", float),))\n",
    "\n"
   ]
  },
  {
   "cell_type": "code",
   "execution_count": 12,
   "metadata": {},
   "outputs": [
    {
     "name": "stdout",
     "output_type": "stream",
     "text": [
      "resource_allocation_index\n",
      "jaccard_coefficient\n",
      "adamic_adar_index\n",
      "common_neighbor_centrality\n",
      "within_inter_cluster\n",
      "cn_soundarajan_hopcroft\n",
      "ra_index_soundarajan_hopcroft\n"
     ]
    }
   ],
   "source": [
    "from networkx import resource_allocation_index, jaccard_coefficient, adamic_adar_index, common_neighbor_centrality, within_inter_cluster, cn_soundarajan_hopcroft, ra_index_soundarajan_hopcroft\n",
    "algorithms = [resource_allocation_index, jaccard_coefficient, adamic_adar_index, common_neighbor_centrality, within_inter_cluster, cn_soundarajan_hopcroft, ra_index_soundarajan_hopcroft]\n",
    "algorithms_str = [\"resource_allocation_index\",\"jaccard_coefficient\",\"adamic_adar_index\",\"common_neighbor_centrality\",\"within_inter_cluster\",\"cn_soundarajan_hopcroft\",\"ra_index_soundarajan_hopcroft\"]\n",
    "\n",
    "\n",
    "for algorithm, algorithms_str in zip(algorithms, algorithms_str):\n",
    "    print(algorithms_str)\n",
    "    preds = algorithm(G)\n",
    "    with open(algorithms_str + \"_user_artists.csv\", \"w\") as f:\n",
    "        for u,v,p in preds:\n",
    "            if p >= 0.0001:\n",
    "                f.write(\"{},{},{}\\n\".format(u,v,p))"
   ]
  }
 ],
 "metadata": {
  "kernelspec": {
   "display_name": "Python 3",
   "language": "python",
   "name": "python3"
  },
  "language_info": {
   "codemirror_mode": {
    "name": "ipython",
    "version": 3
   },
   "file_extension": ".py",
   "mimetype": "text/x-python",
   "name": "python",
   "nbconvert_exporter": "python",
   "pygments_lexer": "ipython3",
   "version": "3.9.5"
  },
  "orig_nbformat": 4
 },
 "nbformat": 4,
 "nbformat_minor": 2
}
